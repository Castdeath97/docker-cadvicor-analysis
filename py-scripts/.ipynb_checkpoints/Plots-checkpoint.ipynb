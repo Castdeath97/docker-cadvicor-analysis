{
 "cells": [
  {
   "cell_type": "markdown",
   "metadata": {},
   "source": [
    "# Benchmarks"
   ]
  },
  {
   "cell_type": "code",
   "execution_count": 3,
   "metadata": {},
   "outputs": [
    {
     "ename": "NameError",
     "evalue": "name 'cpu_df' is not defined",
     "output_type": "error",
     "traceback": [
      "\u001b[0;31m---------------------------------------------------------------------------\u001b[0m",
      "\u001b[0;31mNameError\u001b[0m                                 Traceback (most recent call last)",
      "\u001b[0;32m<ipython-input-3-43e0c7997b26>\u001b[0m in \u001b[0;36m<module>\u001b[0;34m()\u001b[0m\n\u001b[1;32m     37\u001b[0m         \u001b[0mstat_df\u001b[0m \u001b[0;34m=\u001b[0m \u001b[0mstat_df\u001b[0m\u001b[0;34m.\u001b[0m\u001b[0msort_index\u001b[0m\u001b[0;34m(\u001b[0m\u001b[0;34m)\u001b[0m\u001b[0;34m\u001b[0m\u001b[0m\n\u001b[1;32m     38\u001b[0m \u001b[0;34m\u001b[0m\u001b[0m\n\u001b[0;32m---> 39\u001b[0;31m \u001b[0mcpu_df\u001b[0m\u001b[0;34m.\u001b[0m\u001b[0mhead\u001b[0m\u001b[0;34m(\u001b[0m\u001b[0;34m)\u001b[0m\u001b[0;34m\u001b[0m\u001b[0m\n\u001b[0m",
      "\u001b[0;31mNameError\u001b[0m: name 'cpu_df' is not defined"
     ]
    }
   ],
   "source": [
    "# Author: Ammar Hasan 150454388 Decmber 2018\n",
    "# Purpose: reads benchmarks back from db\n",
    "\n",
    "import pymongo\n",
    "import requests\n",
    "import json\n",
    "import pandas as pd\n",
    "import numpy as np\n",
    "import matplotlib.pyplot as plt\n",
    "import datetime\n",
    "\n",
    "# Hosts\n",
    "MONGO_HOST = \"mongodb://127.0.0.1:3306/\"\n",
    "ADVISOR_HOST = \"http://localhost:3000/api/v1.3/\"\n",
    "DATE_TIME_FORMAT = '%Y-%m-%dT%H:%M:%S.%f'\n",
    "\n",
    "# get mongo client\n",
    "my_client = pymongo.MongoClient(MONGO_HOST)\n",
    "\n",
    "# setup database and collection\n",
    "my_db = my_client[\"benchdb\"]\n",
    "my_col = my_db[\"statcollection\"]\n",
    "\n",
    "# creating the pandas\n",
    "columns = ['container','time','cpu', 'memory', 'netbytes']\n",
    "stat_df = pd.DataFrame(columns=columns)\n",
    "\n",
    "for container in my_col.find():\n",
    "    name = container['name']\n",
    "    for stat in container['stats']:\n",
    "        time = datetime.datetime.strptime(stat['timestamp'][:-4], DATE_TIME_FORMAT).timestamp()\n",
    "        cpu =  stat['cpu']['usage']['total']\n",
    "        mem = stat['memory']['usage']\n",
    "        net = stat['network']['rx_bytes']\n",
    "        stat_df.loc[-1] = [name, time, cpu, mem, net]  \n",
    "        stat_df.index = stat_df.index + 1  \n",
    "        stat_df = stat_df.sort_index()\n",
    "        \n",
    "stat_df.head()"
   ]
  },
  {
   "cell_type": "code",
   "execution_count": null,
   "metadata": {},
   "outputs": [],
   "source": []
  },
  {
   "cell_type": "code",
   "execution_count": null,
   "metadata": {},
   "outputs": [],
   "source": []
  }
 ],
 "metadata": {
  "kernelspec": {
   "display_name": "Python 3",
   "language": "python",
   "name": "python3"
  },
  "language_info": {
   "codemirror_mode": {
    "name": "ipython",
    "version": 3
   },
   "file_extension": ".py",
   "mimetype": "text/x-python",
   "name": "python",
   "nbconvert_exporter": "python",
   "pygments_lexer": "ipython3",
   "version": "3.7.0"
  }
 },
 "nbformat": 4,
 "nbformat_minor": 2
}
